{
 "cells": [
  {
   "cell_type": "code",
   "execution_count": 3,
   "metadata": {},
   "outputs": [],
   "source": [
    "import pandas as pd\n",
    "import numpy as np\n",
    "import random\n",
    "import matplotlib.pyplot as plt\n",
    "from math import pi\n",
    "import geopandas\n",
    "import folium\n",
    "from folium.plugins import TimestampedGeoJson\n",
    "\n",
    "plt.rcParams.update({'font.size': 16})\n",
    "plt.rcParams.update({'figure.figsize': (16, 14)})"
   ]
  },
  {
   "cell_type": "code",
   "execution_count": 4,
   "metadata": {},
   "outputs": [
    {
     "output_type": "execute_result",
     "data": {
      "text/plain": [
       "     event-id  visible                timestamp  location-long  location-lat  \\\n",
       "0  2549644513     True  2014-01-09 23:34:59.000         -58.47        -38.25   \n",
       "1  2549644514     True  2014-01-12 23:44:37.000         -58.47        -38.25   \n",
       "2  2549644515     True  2014-01-14 23:52:44.000         -58.47        -38.25   \n",
       "3  2549644516     True  2014-01-15 08:16:13.000         -58.47        -38.25   \n",
       "4  2549644517     True  2014-01-15 23:46:40.000         -58.47        -38.25   \n",
       "\n",
       "           location-error-text       sensor-type  \\\n",
       "0  -38.25:-58.47:-38.25:-58.47  solar-geolocator   \n",
       "1  -38.25:-58.47:-38.25:-58.47  solar-geolocator   \n",
       "2   -38.7:-58.47:-38.25:-58.27  solar-geolocator   \n",
       "3   -38.7:-58.47:-38.25:-58.27  solar-geolocator   \n",
       "4   -38.7:-58.47:-38.25:-58.27  solar-geolocator   \n",
       "\n",
       "  individual-taxon-canonical-name tag-local-identifier  \\\n",
       "0                 Hirundo rustica                 H974   \n",
       "1                 Hirundo rustica                 H974   \n",
       "2                 Hirundo rustica                 H974   \n",
       "3                 Hirundo rustica                 H974   \n",
       "4                 Hirundo rustica                 H974   \n",
       "\n",
       "  individual-local-identifier               study-name  \n",
       "0                        H974  Argentine Barn Swallows  \n",
       "1                        H974  Argentine Barn Swallows  \n",
       "2                        H974  Argentine Barn Swallows  \n",
       "3                        H974  Argentine Barn Swallows  \n",
       "4                        H974  Argentine Barn Swallows  "
      ],
      "text/html": "<div>\n<style scoped>\n    .dataframe tbody tr th:only-of-type {\n        vertical-align: middle;\n    }\n\n    .dataframe tbody tr th {\n        vertical-align: top;\n    }\n\n    .dataframe thead th {\n        text-align: right;\n    }\n</style>\n<table border=\"1\" class=\"dataframe\">\n  <thead>\n    <tr style=\"text-align: right;\">\n      <th></th>\n      <th>event-id</th>\n      <th>visible</th>\n      <th>timestamp</th>\n      <th>location-long</th>\n      <th>location-lat</th>\n      <th>location-error-text</th>\n      <th>sensor-type</th>\n      <th>individual-taxon-canonical-name</th>\n      <th>tag-local-identifier</th>\n      <th>individual-local-identifier</th>\n      <th>study-name</th>\n    </tr>\n  </thead>\n  <tbody>\n    <tr>\n      <th>0</th>\n      <td>2549644513</td>\n      <td>True</td>\n      <td>2014-01-09 23:34:59.000</td>\n      <td>-58.47</td>\n      <td>-38.25</td>\n      <td>-38.25:-58.47:-38.25:-58.47</td>\n      <td>solar-geolocator</td>\n      <td>Hirundo rustica</td>\n      <td>H974</td>\n      <td>H974</td>\n      <td>Argentine Barn Swallows</td>\n    </tr>\n    <tr>\n      <th>1</th>\n      <td>2549644514</td>\n      <td>True</td>\n      <td>2014-01-12 23:44:37.000</td>\n      <td>-58.47</td>\n      <td>-38.25</td>\n      <td>-38.25:-58.47:-38.25:-58.47</td>\n      <td>solar-geolocator</td>\n      <td>Hirundo rustica</td>\n      <td>H974</td>\n      <td>H974</td>\n      <td>Argentine Barn Swallows</td>\n    </tr>\n    <tr>\n      <th>2</th>\n      <td>2549644515</td>\n      <td>True</td>\n      <td>2014-01-14 23:52:44.000</td>\n      <td>-58.47</td>\n      <td>-38.25</td>\n      <td>-38.7:-58.47:-38.25:-58.27</td>\n      <td>solar-geolocator</td>\n      <td>Hirundo rustica</td>\n      <td>H974</td>\n      <td>H974</td>\n      <td>Argentine Barn Swallows</td>\n    </tr>\n    <tr>\n      <th>3</th>\n      <td>2549644516</td>\n      <td>True</td>\n      <td>2014-01-15 08:16:13.000</td>\n      <td>-58.47</td>\n      <td>-38.25</td>\n      <td>-38.7:-58.47:-38.25:-58.27</td>\n      <td>solar-geolocator</td>\n      <td>Hirundo rustica</td>\n      <td>H974</td>\n      <td>H974</td>\n      <td>Argentine Barn Swallows</td>\n    </tr>\n    <tr>\n      <th>4</th>\n      <td>2549644517</td>\n      <td>True</td>\n      <td>2014-01-15 23:46:40.000</td>\n      <td>-58.47</td>\n      <td>-38.25</td>\n      <td>-38.7:-58.47:-38.25:-58.27</td>\n      <td>solar-geolocator</td>\n      <td>Hirundo rustica</td>\n      <td>H974</td>\n      <td>H974</td>\n      <td>Argentine Barn Swallows</td>\n    </tr>\n  </tbody>\n</table>\n</div>"
     },
     "metadata": {},
     "execution_count": 4
    }
   ],
   "source": [
    "data_argentine_barn_swallows = pd.read_csv(\"https://raw.githubusercontent.com/chewbacca13/Visualisation-Project/main/Argentine%20Barn%20Swallows-tracks.csv\")\n",
    "data_argentine_barn_swallows.head()"
   ]
  },
  {
   "cell_type": "code",
   "execution_count": 5,
   "metadata": {},
   "outputs": [
    {
     "output_type": "execute_result",
     "data": {
      "text/plain": [
       "     event-id  visible                timestamp  location-long  location-lat  \\\n",
       "0  3973589512     True  2014-08-01 02:01:23.000       8.931490     47.751562   \n",
       "1  3971796332     True  2014-08-01 02:06:26.000       8.931501     47.751563   \n",
       "2  3972693144     True  2014-08-01 02:11:26.000       8.931525     47.751460   \n",
       "3  3976276588     True  2014-08-01 02:16:26.000       8.931497     47.751471   \n",
       "4  3973142287     True  2014-08-01 02:21:26.000       8.931478     47.751477   \n",
       "\n",
       "  algorithm-marked-outlier  eobs:battery-voltage  eobs:fix-battery-voltage  \\\n",
       "0                      NaN                  4033                    4008.0   \n",
       "1                      NaN                  4030                    4011.0   \n",
       "2                      NaN                  4033                    4011.0   \n",
       "3                      NaN                  4033                    4011.0   \n",
       "4                      NaN                  4033                    4011.0   \n",
       "\n",
       "   eobs:horizontal-accuracy-estimate  eobs:key-bin-checksum  ...  \\\n",
       "0                               3.84           3.207013e+09  ...   \n",
       "1                               5.63           3.675634e+09  ...   \n",
       "2                               5.63           3.865400e+08  ...   \n",
       "3                               5.89           3.043786e+09  ...   \n",
       "4                               4.86           2.454382e+09  ...   \n",
       "\n",
       "  eobs:type-of-fix eobs:used-time-to-get-fix  ground-speed  heading  \\\n",
       "0              3.0                      23.0          0.07     0.00   \n",
       "1              3.0                       5.0          0.20   206.44   \n",
       "2              3.0                       5.0          0.18     0.00   \n",
       "3              3.0                       5.0          0.31     0.00   \n",
       "4              3.0                       5.0          0.25     0.00   \n",
       "\n",
       "   height-above-ellipsoid  sensor-type  individual-taxon-canonical-name  \\\n",
       "0                   461.8          gps                  Ciconia ciconia   \n",
       "1                   473.2          gps                  Ciconia ciconia   \n",
       "2                   461.6          gps                  Ciconia ciconia   \n",
       "3                   455.7          gps                  Ciconia ciconia   \n",
       "4                   460.2          gps                  Ciconia ciconia   \n",
       "\n",
       "   tag-local-identifier    individual-local-identifier  \\\n",
       "0                3913.0  Balou / DER AN916 (eobs 3913)   \n",
       "1                3913.0  Balou / DER AN916 (eobs 3913)   \n",
       "2                3913.0  Balou / DER AN916 (eobs 3913)   \n",
       "3                3913.0  Balou / DER AN916 (eobs 3913)   \n",
       "4                3913.0  Balou / DER AN916 (eobs 3913)   \n",
       "\n",
       "                               study-name  \n",
       "0  Fall migration of white storks in 2014  \n",
       "1  Fall migration of white storks in 2014  \n",
       "2  Fall migration of white storks in 2014  \n",
       "3  Fall migration of white storks in 2014  \n",
       "4  Fall migration of white storks in 2014  \n",
       "\n",
       "[5 rows x 23 columns]"
      ],
      "text/html": "<div>\n<style scoped>\n    .dataframe tbody tr th:only-of-type {\n        vertical-align: middle;\n    }\n\n    .dataframe tbody tr th {\n        vertical-align: top;\n    }\n\n    .dataframe thead th {\n        text-align: right;\n    }\n</style>\n<table border=\"1\" class=\"dataframe\">\n  <thead>\n    <tr style=\"text-align: right;\">\n      <th></th>\n      <th>event-id</th>\n      <th>visible</th>\n      <th>timestamp</th>\n      <th>location-long</th>\n      <th>location-lat</th>\n      <th>algorithm-marked-outlier</th>\n      <th>eobs:battery-voltage</th>\n      <th>eobs:fix-battery-voltage</th>\n      <th>eobs:horizontal-accuracy-estimate</th>\n      <th>eobs:key-bin-checksum</th>\n      <th>...</th>\n      <th>eobs:type-of-fix</th>\n      <th>eobs:used-time-to-get-fix</th>\n      <th>ground-speed</th>\n      <th>heading</th>\n      <th>height-above-ellipsoid</th>\n      <th>sensor-type</th>\n      <th>individual-taxon-canonical-name</th>\n      <th>tag-local-identifier</th>\n      <th>individual-local-identifier</th>\n      <th>study-name</th>\n    </tr>\n  </thead>\n  <tbody>\n    <tr>\n      <th>0</th>\n      <td>3973589512</td>\n      <td>True</td>\n      <td>2014-08-01 02:01:23.000</td>\n      <td>8.931490</td>\n      <td>47.751562</td>\n      <td>NaN</td>\n      <td>4033</td>\n      <td>4008.0</td>\n      <td>3.84</td>\n      <td>3.207013e+09</td>\n      <td>...</td>\n      <td>3.0</td>\n      <td>23.0</td>\n      <td>0.07</td>\n      <td>0.00</td>\n      <td>461.8</td>\n      <td>gps</td>\n      <td>Ciconia ciconia</td>\n      <td>3913.0</td>\n      <td>Balou / DER AN916 (eobs 3913)</td>\n      <td>Fall migration of white storks in 2014</td>\n    </tr>\n    <tr>\n      <th>1</th>\n      <td>3971796332</td>\n      <td>True</td>\n      <td>2014-08-01 02:06:26.000</td>\n      <td>8.931501</td>\n      <td>47.751563</td>\n      <td>NaN</td>\n      <td>4030</td>\n      <td>4011.0</td>\n      <td>5.63</td>\n      <td>3.675634e+09</td>\n      <td>...</td>\n      <td>3.0</td>\n      <td>5.0</td>\n      <td>0.20</td>\n      <td>206.44</td>\n      <td>473.2</td>\n      <td>gps</td>\n      <td>Ciconia ciconia</td>\n      <td>3913.0</td>\n      <td>Balou / DER AN916 (eobs 3913)</td>\n      <td>Fall migration of white storks in 2014</td>\n    </tr>\n    <tr>\n      <th>2</th>\n      <td>3972693144</td>\n      <td>True</td>\n      <td>2014-08-01 02:11:26.000</td>\n      <td>8.931525</td>\n      <td>47.751460</td>\n      <td>NaN</td>\n      <td>4033</td>\n      <td>4011.0</td>\n      <td>5.63</td>\n      <td>3.865400e+08</td>\n      <td>...</td>\n      <td>3.0</td>\n      <td>5.0</td>\n      <td>0.18</td>\n      <td>0.00</td>\n      <td>461.6</td>\n      <td>gps</td>\n      <td>Ciconia ciconia</td>\n      <td>3913.0</td>\n      <td>Balou / DER AN916 (eobs 3913)</td>\n      <td>Fall migration of white storks in 2014</td>\n    </tr>\n    <tr>\n      <th>3</th>\n      <td>3976276588</td>\n      <td>True</td>\n      <td>2014-08-01 02:16:26.000</td>\n      <td>8.931497</td>\n      <td>47.751471</td>\n      <td>NaN</td>\n      <td>4033</td>\n      <td>4011.0</td>\n      <td>5.89</td>\n      <td>3.043786e+09</td>\n      <td>...</td>\n      <td>3.0</td>\n      <td>5.0</td>\n      <td>0.31</td>\n      <td>0.00</td>\n      <td>455.7</td>\n      <td>gps</td>\n      <td>Ciconia ciconia</td>\n      <td>3913.0</td>\n      <td>Balou / DER AN916 (eobs 3913)</td>\n      <td>Fall migration of white storks in 2014</td>\n    </tr>\n    <tr>\n      <th>4</th>\n      <td>3973142287</td>\n      <td>True</td>\n      <td>2014-08-01 02:21:26.000</td>\n      <td>8.931478</td>\n      <td>47.751477</td>\n      <td>NaN</td>\n      <td>4033</td>\n      <td>4011.0</td>\n      <td>4.86</td>\n      <td>2.454382e+09</td>\n      <td>...</td>\n      <td>3.0</td>\n      <td>5.0</td>\n      <td>0.25</td>\n      <td>0.00</td>\n      <td>460.2</td>\n      <td>gps</td>\n      <td>Ciconia ciconia</td>\n      <td>3913.0</td>\n      <td>Balou / DER AN916 (eobs 3913)</td>\n      <td>Fall migration of white storks in 2014</td>\n    </tr>\n  </tbody>\n</table>\n<p>5 rows × 23 columns</p>\n</div>"
     },
     "metadata": {},
     "execution_count": 5
    }
   ],
   "source": [
    "data_stork = pd.read_csv('data/Fall migration of white storks in 2014-gps.csv')\n",
    "data_stork.head()"
   ]
  },
  {
   "cell_type": "code",
   "execution_count": 6,
   "metadata": {},
   "outputs": [
    {
     "output_type": "execute_result",
     "data": {
      "text/plain": [
       "   altitude               date_time  device_info_serial   direction  \\\n",
       "0        71  2013-08-15 00:18:08+00                 851 -150.469753   \n",
       "1        68  2013-08-15 00:48:07+00                 851 -136.151141   \n",
       "2        68  2013-08-15 01:17:58+00                 851  160.797477   \n",
       "3        73  2013-08-15 01:47:51+00                 851   32.769360   \n",
       "4        69  2013-08-15 02:17:42+00                 851   45.191230   \n",
       "\n",
       "    latitude  longitude  speed_2d bird_name  \n",
       "0  49.419859   2.120733  0.150000      Eric  \n",
       "1  49.419880   2.120746  2.438360      Eric  \n",
       "2  49.420310   2.120885  0.596657      Eric  \n",
       "3  49.420359   2.120859  0.310161      Eric  \n",
       "4  49.420331   2.120887  0.193132      Eric  "
      ],
      "text/html": "<div>\n<style scoped>\n    .dataframe tbody tr th:only-of-type {\n        vertical-align: middle;\n    }\n\n    .dataframe tbody tr th {\n        vertical-align: top;\n    }\n\n    .dataframe thead th {\n        text-align: right;\n    }\n</style>\n<table border=\"1\" class=\"dataframe\">\n  <thead>\n    <tr style=\"text-align: right;\">\n      <th></th>\n      <th>altitude</th>\n      <th>date_time</th>\n      <th>device_info_serial</th>\n      <th>direction</th>\n      <th>latitude</th>\n      <th>longitude</th>\n      <th>speed_2d</th>\n      <th>bird_name</th>\n    </tr>\n  </thead>\n  <tbody>\n    <tr>\n      <th>0</th>\n      <td>71</td>\n      <td>2013-08-15 00:18:08+00</td>\n      <td>851</td>\n      <td>-150.469753</td>\n      <td>49.419859</td>\n      <td>2.120733</td>\n      <td>0.150000</td>\n      <td>Eric</td>\n    </tr>\n    <tr>\n      <th>1</th>\n      <td>68</td>\n      <td>2013-08-15 00:48:07+00</td>\n      <td>851</td>\n      <td>-136.151141</td>\n      <td>49.419880</td>\n      <td>2.120746</td>\n      <td>2.438360</td>\n      <td>Eric</td>\n    </tr>\n    <tr>\n      <th>2</th>\n      <td>68</td>\n      <td>2013-08-15 01:17:58+00</td>\n      <td>851</td>\n      <td>160.797477</td>\n      <td>49.420310</td>\n      <td>2.120885</td>\n      <td>0.596657</td>\n      <td>Eric</td>\n    </tr>\n    <tr>\n      <th>3</th>\n      <td>73</td>\n      <td>2013-08-15 01:47:51+00</td>\n      <td>851</td>\n      <td>32.769360</td>\n      <td>49.420359</td>\n      <td>2.120859</td>\n      <td>0.310161</td>\n      <td>Eric</td>\n    </tr>\n    <tr>\n      <th>4</th>\n      <td>69</td>\n      <td>2013-08-15 02:17:42+00</td>\n      <td>851</td>\n      <td>45.191230</td>\n      <td>49.420331</td>\n      <td>2.120887</td>\n      <td>0.193132</td>\n      <td>Eric</td>\n    </tr>\n  </tbody>\n</table>\n</div>"
     },
     "metadata": {},
     "execution_count": 6
    }
   ],
   "source": [
    "data_gulls = pd.read_csv('https://raw.githubusercontent.com/chewbacca13/Visualisation-Project/main/bird_tracking-gulls.csv')\n",
    "data_gulls.head()"
   ]
  },
  {
   "cell_type": "code",
   "execution_count": 7,
   "metadata": {},
   "outputs": [],
   "source": [
    "world = geopandas.read_file(geopandas.datasets.get_path('naturalearth_lowres'))\n",
    "m = folium.Map()\n",
    "cities = geopandas.read_file(geopandas.datasets.get_path('naturalearth_cities'))"
   ]
  },
  {
   "cell_type": "code",
   "execution_count": 8,
   "metadata": {},
   "outputs": [],
   "source": [
    "colors = ['magenta', 'green', 'purple', 'black', 'blue', 'yellow', 'red', 'black', 'orange']"
   ]
  },
  {
   "cell_type": "code",
   "execution_count": 13,
   "metadata": {
    "tags": []
   },
   "outputs": [],
   "source": [
    "list_swallows = [x for _, x in data_argentine_barn_swallows.groupby(data_argentine_barn_swallows['individual-local-identifier'])]\n",
    "\n",
    "for i, swallow in enumerate(list_swallows):\n",
    "    folium.PolyLine(\n",
    "        zip(swallow['location-lat'].dropna(), swallow['location-long'].dropna()),\n",
    "        tooltip=swallow['individual-local-identifier'].iloc[0],\n",
    "        color=colors[i]\n",
    "    ).add_to(m)\n"
   ]
  },
  {
   "cell_type": "code",
   "execution_count": 22,
   "metadata": {},
   "outputs": [],
   "source": [
    "list_storks = [x for _, x in data_stork.groupby(data_stork['individual-local-identifier'])]\n",
    "\n",
    "for i, stork in enumerate(list_storks):\n",
    "    folium.PolyLine(\n",
    "        zip(stork['location-lat'].dropna(), stork['location-long'].dropna()),\n",
    "        tooltip=stork['individual-local-identifier'].iloc[0],\n",
    "        color='darkgreen'\n",
    "    ).add_to(m)"
   ]
  },
  {
   "cell_type": "code",
   "execution_count": 23,
   "metadata": {},
   "outputs": [],
   "source": [
    "list_gulls = [x for _, x in data_gulls.groupby(data_gulls['bird_name'])]\n",
    "\n",
    "for i, gull in enumerate(list_gulls):\n",
    "    folium.PolyLine(\n",
    "        zip(gull['latitude'], gull['longitude']),\n",
    "        tooltip=gull['bird_name'].iloc[0],\n",
    "        color='blue'\n",
    "    ).add_to(m)"
   ]
  },
  {
   "cell_type": "code",
   "execution_count": 70,
   "metadata": {},
   "outputs": [
    {
     "output_type": "execute_result",
     "data": {
      "text/plain": [
       "<folium.map.Marker at 0x7fe580b75650>"
      ]
     },
     "metadata": {},
     "execution_count": 70
    }
   ],
   "source": [
    "folium.Marker([40.0001,32.4789],\n",
    "              popup='<strong>My First Point</strong>',\n",
    "              tooltip='First Point',\n",
    "              icon=folium.Icon(color='purple',icon='leaf')).add_to(m)\n",
    "\n",
    "folium.Marker([40.0001,32.4989],\n",
    "              popup='<strong>My Second Point</strong>',\n",
    "              tooltip='Second Point',\n",
    "              icon=folium.Icon(color='beige',icon='leaf')).add_to(m)"
   ]
  },
  {
   "cell_type": "code",
   "execution_count": 18,
   "metadata": {},
   "outputs": [],
   "source": [
    "m"
   ]
  },
  {
   "cell_type": "code",
   "execution_count": null,
   "metadata": {},
   "outputs": [],
   "source": []
  }
 ],
 "metadata": {
  "kernelspec": {
   "name": "python37664bitbaseconda21701163af64464cbf16f85478d8b145",
   "display_name": "Python 3.7.6 64-bit ('base': conda)",
   "language": "python"
  },
  "language_info": {
   "codemirror_mode": {
    "name": "ipython",
    "version": 3
   },
   "file_extension": ".py",
   "mimetype": "text/x-python",
   "name": "python",
   "nbconvert_exporter": "python",
   "pygments_lexer": "ipython3",
   "version": "3.7.6-final"
  }
 },
 "nbformat": 4,
 "nbformat_minor": 4
}